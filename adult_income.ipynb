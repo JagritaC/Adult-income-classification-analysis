{
 "cells": [
  {
   "cell_type": "code",
   "execution_count": 1,
   "id": "90a8072b",
   "metadata": {},
   "outputs": [],
   "source": [
    "import pandas as pd\n",
    "import seaborn as sns\n",
    "import matplotlib.pyplot as plt\n",
    "from sklearn.model_selection import train_test_split\n",
    "from sklearn.tree import DecisionTreeClassifier\n",
    "from sklearn.ensemble import RandomForestClassifier\n",
    "from sklearn.naive_bayes import GaussianNB\n",
    "from sklearn.neighbors import KNeighborsClassifier\n",
    "from sklearn.linear_model import LogisticRegression\n",
    "from sklearn.metrics import confusion_matrix, classification_report, roc_curve, roc_auc_score\n",
    "from sklearn.metrics import accuracy_score\n",
    "from imblearn.over_sampling import SMOTE"
   ]
  },
  {
   "cell_type": "code",
   "execution_count": 2,
   "id": "3ea5cc0f",
   "metadata": {},
   "outputs": [],
   "source": [
    "data=pd.read_csv(\"adult.csv\")\n",
    "df=data.copy()"
   ]
  },
  {
   "cell_type": "code",
   "execution_count": 3,
   "id": "b1ff8527",
   "metadata": {},
   "outputs": [
    {
     "data": {
      "text/html": [
       "<div>\n",
       "<style scoped>\n",
       "    .dataframe tbody tr th:only-of-type {\n",
       "        vertical-align: middle;\n",
       "    }\n",
       "\n",
       "    .dataframe tbody tr th {\n",
       "        vertical-align: top;\n",
       "    }\n",
       "\n",
       "    .dataframe thead th {\n",
       "        text-align: right;\n",
       "    }\n",
       "</style>\n",
       "<table border=\"1\" class=\"dataframe\">\n",
       "  <thead>\n",
       "    <tr style=\"text-align: right;\">\n",
       "      <th></th>\n",
       "      <th>Age</th>\n",
       "      <th>workclass</th>\n",
       "      <th>fnlwgt</th>\n",
       "      <th>Education</th>\n",
       "      <th>Education-num</th>\n",
       "      <th>maritial status</th>\n",
       "      <th>occupation</th>\n",
       "      <th>relationship</th>\n",
       "      <th>Race</th>\n",
       "      <th>Gender</th>\n",
       "      <th>capital gain</th>\n",
       "      <th>capital loss</th>\n",
       "      <th>hours per week</th>\n",
       "      <th>native_country</th>\n",
       "      <th>salary</th>\n",
       "    </tr>\n",
       "  </thead>\n",
       "  <tbody>\n",
       "    <tr>\n",
       "      <th>32556</th>\n",
       "      <td>27</td>\n",
       "      <td>Private</td>\n",
       "      <td>257302</td>\n",
       "      <td>Assoc-acdm</td>\n",
       "      <td>12</td>\n",
       "      <td>Married-civ-spouse</td>\n",
       "      <td>Tech-support</td>\n",
       "      <td>Wife</td>\n",
       "      <td>White</td>\n",
       "      <td>Female</td>\n",
       "      <td>0</td>\n",
       "      <td>0</td>\n",
       "      <td>38</td>\n",
       "      <td>United-States</td>\n",
       "      <td>&lt;=50K</td>\n",
       "    </tr>\n",
       "    <tr>\n",
       "      <th>32557</th>\n",
       "      <td>40</td>\n",
       "      <td>Private</td>\n",
       "      <td>154374</td>\n",
       "      <td>HS-grad</td>\n",
       "      <td>9</td>\n",
       "      <td>Married-civ-spouse</td>\n",
       "      <td>Machine-op-inspct</td>\n",
       "      <td>Husband</td>\n",
       "      <td>White</td>\n",
       "      <td>Male</td>\n",
       "      <td>0</td>\n",
       "      <td>0</td>\n",
       "      <td>40</td>\n",
       "      <td>United-States</td>\n",
       "      <td>&gt;50K</td>\n",
       "    </tr>\n",
       "    <tr>\n",
       "      <th>32558</th>\n",
       "      <td>58</td>\n",
       "      <td>Private</td>\n",
       "      <td>151910</td>\n",
       "      <td>HS-grad</td>\n",
       "      <td>9</td>\n",
       "      <td>Widowed</td>\n",
       "      <td>Adm-clerical</td>\n",
       "      <td>Unmarried</td>\n",
       "      <td>White</td>\n",
       "      <td>Female</td>\n",
       "      <td>0</td>\n",
       "      <td>0</td>\n",
       "      <td>40</td>\n",
       "      <td>United-States</td>\n",
       "      <td>&lt;=50K</td>\n",
       "    </tr>\n",
       "    <tr>\n",
       "      <th>32559</th>\n",
       "      <td>22</td>\n",
       "      <td>Private</td>\n",
       "      <td>201490</td>\n",
       "      <td>HS-grad</td>\n",
       "      <td>9</td>\n",
       "      <td>Never-married</td>\n",
       "      <td>Adm-clerical</td>\n",
       "      <td>Own-child</td>\n",
       "      <td>White</td>\n",
       "      <td>Male</td>\n",
       "      <td>0</td>\n",
       "      <td>0</td>\n",
       "      <td>20</td>\n",
       "      <td>United-States</td>\n",
       "      <td>&lt;=50K</td>\n",
       "    </tr>\n",
       "    <tr>\n",
       "      <th>32560</th>\n",
       "      <td>52</td>\n",
       "      <td>Self-emp-inc</td>\n",
       "      <td>287927</td>\n",
       "      <td>HS-grad</td>\n",
       "      <td>9</td>\n",
       "      <td>Married-civ-spouse</td>\n",
       "      <td>Exec-managerial</td>\n",
       "      <td>Wife</td>\n",
       "      <td>White</td>\n",
       "      <td>Female</td>\n",
       "      <td>15024</td>\n",
       "      <td>0</td>\n",
       "      <td>40</td>\n",
       "      <td>United-States</td>\n",
       "      <td>&gt;50K</td>\n",
       "    </tr>\n",
       "  </tbody>\n",
       "</table>\n",
       "</div>"
      ],
      "text/plain": [
       "       Age      workclass  fnlwgt    Education  Education-num  \\\n",
       "32556   27        Private  257302   Assoc-acdm             12   \n",
       "32557   40        Private  154374      HS-grad              9   \n",
       "32558   58        Private  151910      HS-grad              9   \n",
       "32559   22        Private  201490      HS-grad              9   \n",
       "32560   52   Self-emp-inc  287927      HS-grad              9   \n",
       "\n",
       "           maritial status          occupation relationship    Race   Gender  \\\n",
       "32556   Married-civ-spouse        Tech-support         Wife   White   Female   \n",
       "32557   Married-civ-spouse   Machine-op-inspct      Husband   White     Male   \n",
       "32558              Widowed        Adm-clerical    Unmarried   White   Female   \n",
       "32559        Never-married        Adm-clerical    Own-child   White     Male   \n",
       "32560   Married-civ-spouse     Exec-managerial         Wife   White   Female   \n",
       "\n",
       "       capital gain  capital loss  hours per week  native_country  salary  \n",
       "32556             0             0              38   United-States   <=50K  \n",
       "32557             0             0              40   United-States    >50K  \n",
       "32558             0             0              40   United-States   <=50K  \n",
       "32559             0             0              20   United-States   <=50K  \n",
       "32560         15024             0              40   United-States    >50K  "
      ]
     },
     "execution_count": 3,
     "metadata": {},
     "output_type": "execute_result"
    }
   ],
   "source": [
    "df.tail()"
   ]
  },
  {
   "cell_type": "code",
   "execution_count": 4,
   "id": "76d56c16",
   "metadata": {},
   "outputs": [
    {
     "data": {
      "text/plain": [
       "array([' Not-in-family', ' Husband', ' Wife', ' Own-child', ' Unmarried',\n",
       "       ' Other-relative'], dtype=object)"
      ]
     },
     "execution_count": 4,
     "metadata": {},
     "output_type": "execute_result"
    }
   ],
   "source": [
    "df['relationship'].unique()"
   ]
  },
  {
   "cell_type": "code",
   "execution_count": 5,
   "id": "02b137c7",
   "metadata": {},
   "outputs": [
    {
     "data": {
      "text/plain": [
       "Age                 int64\n",
       "workclass          object\n",
       "fnlwgt              int64\n",
       "Education          object\n",
       "Education-num       int64\n",
       "maritial status    object\n",
       "occupation         object\n",
       "relationship       object\n",
       "Race               object\n",
       "Gender             object\n",
       "capital gain        int64\n",
       "capital loss        int64\n",
       "hours per week      int64\n",
       "native_country     object\n",
       "salary             object\n",
       "dtype: object"
      ]
     },
     "execution_count": 5,
     "metadata": {},
     "output_type": "execute_result"
    }
   ],
   "source": [
    "df.dtypes"
   ]
  },
  {
   "cell_type": "code",
   "execution_count": 6,
   "id": "295f2fa4",
   "metadata": {},
   "outputs": [
    {
     "data": {
      "text/plain": [
       "Age                0\n",
       "workclass          0\n",
       "fnlwgt             0\n",
       "Education          0\n",
       "Education-num      0\n",
       "maritial status    0\n",
       "occupation         0\n",
       "relationship       0\n",
       "Race               0\n",
       "Gender             0\n",
       "capital gain       0\n",
       "capital loss       0\n",
       "hours per week     0\n",
       "native_country     0\n",
       "salary             0\n",
       "dtype: int64"
      ]
     },
     "execution_count": 6,
     "metadata": {},
     "output_type": "execute_result"
    }
   ],
   "source": [
    "df.isnull().sum()"
   ]
  },
  {
   "cell_type": "code",
   "execution_count": 7,
   "id": "bcbcb64e",
   "metadata": {},
   "outputs": [],
   "source": [
    "df['workclass']=df['workclass'].astype('category') \n",
    "df['Education']=df['Education'].astype('category') \n",
    "df['maritial status']=df['maritial status'].astype('category') \n",
    "df['occupation']=df['occupation'].astype('category') \n",
    "df['relationship']=df['relationship'].astype('category') \n",
    "df['Race']=df['Race'].astype('category') \n",
    "df['Gender']=df['Gender'].astype('category') \n",
    "df['native_country']=df['native_country'].astype('category') \n",
    "df['salary']=df['salary'].astype('category') "
   ]
  },
  {
   "cell_type": "code",
   "execution_count": 8,
   "id": "82e17c19",
   "metadata": {},
   "outputs": [
    {
     "data": {
      "text/plain": [
       "Age                   int64\n",
       "workclass          category\n",
       "fnlwgt                int64\n",
       "Education          category\n",
       "Education-num         int64\n",
       "maritial status    category\n",
       "occupation         category\n",
       "relationship       category\n",
       "Race               category\n",
       "Gender             category\n",
       "capital gain          int64\n",
       "capital loss          int64\n",
       "hours per week        int64\n",
       "native_country     category\n",
       "salary             category\n",
       "dtype: object"
      ]
     },
     "execution_count": 8,
     "metadata": {},
     "output_type": "execute_result"
    }
   ],
   "source": [
    "df.dtypes"
   ]
  },
  {
   "cell_type": "code",
   "execution_count": 9,
   "id": "ebbdd203",
   "metadata": {},
   "outputs": [],
   "source": [
    "df['workclass']=df['workclass'].cat.codes\n",
    "df['Education']=df['Education'].cat.codes\n",
    "df['maritial status']=df['maritial status'].cat.codes\n",
    "df['occupation']=df['occupation'].cat.codes\n",
    "df['relationship']=df['relationship'].cat.codes\n",
    "df['Race']=df['Race'].cat.codes\n",
    "df['Gender']=df['Gender'].cat.codes\n",
    "df['native_country']=df['native_country'].cat.codes\n",
    "df['salary']=df['salary'].cat.codes"
   ]
  },
  {
   "cell_type": "code",
   "execution_count": 10,
   "id": "ea6c3d4e",
   "metadata": {},
   "outputs": [
    {
     "data": {
      "text/html": [
       "<div>\n",
       "<style scoped>\n",
       "    .dataframe tbody tr th:only-of-type {\n",
       "        vertical-align: middle;\n",
       "    }\n",
       "\n",
       "    .dataframe tbody tr th {\n",
       "        vertical-align: top;\n",
       "    }\n",
       "\n",
       "    .dataframe thead th {\n",
       "        text-align: right;\n",
       "    }\n",
       "</style>\n",
       "<table border=\"1\" class=\"dataframe\">\n",
       "  <thead>\n",
       "    <tr style=\"text-align: right;\">\n",
       "      <th></th>\n",
       "      <th>Age</th>\n",
       "      <th>workclass</th>\n",
       "      <th>fnlwgt</th>\n",
       "      <th>Education</th>\n",
       "      <th>Education-num</th>\n",
       "      <th>maritial status</th>\n",
       "      <th>occupation</th>\n",
       "      <th>relationship</th>\n",
       "      <th>Race</th>\n",
       "      <th>Gender</th>\n",
       "      <th>capital gain</th>\n",
       "      <th>capital loss</th>\n",
       "      <th>hours per week</th>\n",
       "      <th>native_country</th>\n",
       "      <th>salary</th>\n",
       "    </tr>\n",
       "  </thead>\n",
       "  <tbody>\n",
       "    <tr>\n",
       "      <th>Age</th>\n",
       "      <td>1.000000</td>\n",
       "      <td>0.003787</td>\n",
       "      <td>-0.076646</td>\n",
       "      <td>-0.010508</td>\n",
       "      <td>0.036527</td>\n",
       "      <td>-0.266288</td>\n",
       "      <td>-0.020947</td>\n",
       "      <td>-0.263698</td>\n",
       "      <td>0.028718</td>\n",
       "      <td>0.088832</td>\n",
       "      <td>0.077674</td>\n",
       "      <td>0.057775</td>\n",
       "      <td>0.068756</td>\n",
       "      <td>-0.001151</td>\n",
       "      <td>0.234037</td>\n",
       "    </tr>\n",
       "    <tr>\n",
       "      <th>workclass</th>\n",
       "      <td>0.003787</td>\n",
       "      <td>1.000000</td>\n",
       "      <td>-0.016656</td>\n",
       "      <td>0.023513</td>\n",
       "      <td>0.052085</td>\n",
       "      <td>-0.064731</td>\n",
       "      <td>0.254892</td>\n",
       "      <td>-0.090461</td>\n",
       "      <td>0.049742</td>\n",
       "      <td>0.095981</td>\n",
       "      <td>0.033835</td>\n",
       "      <td>0.012216</td>\n",
       "      <td>0.138962</td>\n",
       "      <td>-0.007690</td>\n",
       "      <td>0.051604</td>\n",
       "    </tr>\n",
       "    <tr>\n",
       "      <th>fnlwgt</th>\n",
       "      <td>-0.076646</td>\n",
       "      <td>-0.016656</td>\n",
       "      <td>1.000000</td>\n",
       "      <td>-0.028145</td>\n",
       "      <td>-0.043195</td>\n",
       "      <td>0.028153</td>\n",
       "      <td>0.001597</td>\n",
       "      <td>0.008931</td>\n",
       "      <td>-0.021291</td>\n",
       "      <td>0.026858</td>\n",
       "      <td>0.000432</td>\n",
       "      <td>-0.010252</td>\n",
       "      <td>-0.018768</td>\n",
       "      <td>-0.051966</td>\n",
       "      <td>-0.009463</td>\n",
       "    </tr>\n",
       "    <tr>\n",
       "      <th>Education</th>\n",
       "      <td>-0.010508</td>\n",
       "      <td>0.023513</td>\n",
       "      <td>-0.028145</td>\n",
       "      <td>1.000000</td>\n",
       "      <td>0.359153</td>\n",
       "      <td>-0.038407</td>\n",
       "      <td>-0.021260</td>\n",
       "      <td>-0.010876</td>\n",
       "      <td>0.014131</td>\n",
       "      <td>-0.027356</td>\n",
       "      <td>0.030046</td>\n",
       "      <td>0.016746</td>\n",
       "      <td>0.055510</td>\n",
       "      <td>0.064288</td>\n",
       "      <td>0.079317</td>\n",
       "    </tr>\n",
       "    <tr>\n",
       "      <th>Education-num</th>\n",
       "      <td>0.036527</td>\n",
       "      <td>0.052085</td>\n",
       "      <td>-0.043195</td>\n",
       "      <td>0.359153</td>\n",
       "      <td>1.000000</td>\n",
       "      <td>-0.069304</td>\n",
       "      <td>0.109697</td>\n",
       "      <td>-0.094153</td>\n",
       "      <td>0.031838</td>\n",
       "      <td>0.012280</td>\n",
       "      <td>0.122630</td>\n",
       "      <td>0.079923</td>\n",
       "      <td>0.148123</td>\n",
       "      <td>0.050840</td>\n",
       "      <td>0.335154</td>\n",
       "    </tr>\n",
       "    <tr>\n",
       "      <th>maritial status</th>\n",
       "      <td>-0.266288</td>\n",
       "      <td>-0.064731</td>\n",
       "      <td>0.028153</td>\n",
       "      <td>-0.038407</td>\n",
       "      <td>-0.069304</td>\n",
       "      <td>1.000000</td>\n",
       "      <td>-0.009654</td>\n",
       "      <td>0.185451</td>\n",
       "      <td>-0.068013</td>\n",
       "      <td>-0.129314</td>\n",
       "      <td>-0.043393</td>\n",
       "      <td>-0.034187</td>\n",
       "      <td>-0.190519</td>\n",
       "      <td>-0.023819</td>\n",
       "      <td>-0.199307</td>\n",
       "    </tr>\n",
       "    <tr>\n",
       "      <th>occupation</th>\n",
       "      <td>-0.020947</td>\n",
       "      <td>0.254892</td>\n",
       "      <td>0.001597</td>\n",
       "      <td>-0.021260</td>\n",
       "      <td>0.109697</td>\n",
       "      <td>-0.009654</td>\n",
       "      <td>1.000000</td>\n",
       "      <td>-0.075607</td>\n",
       "      <td>0.006763</td>\n",
       "      <td>0.080296</td>\n",
       "      <td>0.025505</td>\n",
       "      <td>0.017987</td>\n",
       "      <td>0.080383</td>\n",
       "      <td>-0.012543</td>\n",
       "      <td>0.075468</td>\n",
       "    </tr>\n",
       "    <tr>\n",
       "      <th>relationship</th>\n",
       "      <td>-0.263698</td>\n",
       "      <td>-0.090461</td>\n",
       "      <td>0.008931</td>\n",
       "      <td>-0.010876</td>\n",
       "      <td>-0.094153</td>\n",
       "      <td>0.185451</td>\n",
       "      <td>-0.075607</td>\n",
       "      <td>1.000000</td>\n",
       "      <td>-0.116055</td>\n",
       "      <td>-0.582454</td>\n",
       "      <td>-0.057919</td>\n",
       "      <td>-0.061062</td>\n",
       "      <td>-0.248974</td>\n",
       "      <td>-0.005507</td>\n",
       "      <td>-0.250918</td>\n",
       "    </tr>\n",
       "    <tr>\n",
       "      <th>Race</th>\n",
       "      <td>0.028718</td>\n",
       "      <td>0.049742</td>\n",
       "      <td>-0.021291</td>\n",
       "      <td>0.014131</td>\n",
       "      <td>0.031838</td>\n",
       "      <td>-0.068013</td>\n",
       "      <td>0.006763</td>\n",
       "      <td>-0.116055</td>\n",
       "      <td>1.000000</td>\n",
       "      <td>0.087204</td>\n",
       "      <td>0.011145</td>\n",
       "      <td>0.018899</td>\n",
       "      <td>0.041910</td>\n",
       "      <td>0.137852</td>\n",
       "      <td>0.071846</td>\n",
       "    </tr>\n",
       "    <tr>\n",
       "      <th>Gender</th>\n",
       "      <td>0.088832</td>\n",
       "      <td>0.095981</td>\n",
       "      <td>0.026858</td>\n",
       "      <td>-0.027356</td>\n",
       "      <td>0.012280</td>\n",
       "      <td>-0.129314</td>\n",
       "      <td>0.080296</td>\n",
       "      <td>-0.582454</td>\n",
       "      <td>0.087204</td>\n",
       "      <td>1.000000</td>\n",
       "      <td>0.048480</td>\n",
       "      <td>0.045567</td>\n",
       "      <td>0.229309</td>\n",
       "      <td>-0.008119</td>\n",
       "      <td>0.215980</td>\n",
       "    </tr>\n",
       "    <tr>\n",
       "      <th>capital gain</th>\n",
       "      <td>0.077674</td>\n",
       "      <td>0.033835</td>\n",
       "      <td>0.000432</td>\n",
       "      <td>0.030046</td>\n",
       "      <td>0.122630</td>\n",
       "      <td>-0.043393</td>\n",
       "      <td>0.025505</td>\n",
       "      <td>-0.057919</td>\n",
       "      <td>0.011145</td>\n",
       "      <td>0.048480</td>\n",
       "      <td>1.000000</td>\n",
       "      <td>-0.031615</td>\n",
       "      <td>0.078409</td>\n",
       "      <td>-0.001982</td>\n",
       "      <td>0.223329</td>\n",
       "    </tr>\n",
       "    <tr>\n",
       "      <th>capital loss</th>\n",
       "      <td>0.057775</td>\n",
       "      <td>0.012216</td>\n",
       "      <td>-0.010252</td>\n",
       "      <td>0.016746</td>\n",
       "      <td>0.079923</td>\n",
       "      <td>-0.034187</td>\n",
       "      <td>0.017987</td>\n",
       "      <td>-0.061062</td>\n",
       "      <td>0.018899</td>\n",
       "      <td>0.045567</td>\n",
       "      <td>-0.031615</td>\n",
       "      <td>1.000000</td>\n",
       "      <td>0.054256</td>\n",
       "      <td>0.000419</td>\n",
       "      <td>0.150526</td>\n",
       "    </tr>\n",
       "    <tr>\n",
       "      <th>hours per week</th>\n",
       "      <td>0.068756</td>\n",
       "      <td>0.138962</td>\n",
       "      <td>-0.018768</td>\n",
       "      <td>0.055510</td>\n",
       "      <td>0.148123</td>\n",
       "      <td>-0.190519</td>\n",
       "      <td>0.080383</td>\n",
       "      <td>-0.248974</td>\n",
       "      <td>0.041910</td>\n",
       "      <td>0.229309</td>\n",
       "      <td>0.078409</td>\n",
       "      <td>0.054256</td>\n",
       "      <td>1.000000</td>\n",
       "      <td>-0.002671</td>\n",
       "      <td>0.229689</td>\n",
       "    </tr>\n",
       "    <tr>\n",
       "      <th>native_country</th>\n",
       "      <td>-0.001151</td>\n",
       "      <td>-0.007690</td>\n",
       "      <td>-0.051966</td>\n",
       "      <td>0.064288</td>\n",
       "      <td>0.050840</td>\n",
       "      <td>-0.023819</td>\n",
       "      <td>-0.012543</td>\n",
       "      <td>-0.005507</td>\n",
       "      <td>0.137852</td>\n",
       "      <td>-0.008119</td>\n",
       "      <td>-0.001982</td>\n",
       "      <td>0.000419</td>\n",
       "      <td>-0.002671</td>\n",
       "      <td>1.000000</td>\n",
       "      <td>0.015840</td>\n",
       "    </tr>\n",
       "    <tr>\n",
       "      <th>salary</th>\n",
       "      <td>0.234037</td>\n",
       "      <td>0.051604</td>\n",
       "      <td>-0.009463</td>\n",
       "      <td>0.079317</td>\n",
       "      <td>0.335154</td>\n",
       "      <td>-0.199307</td>\n",
       "      <td>0.075468</td>\n",
       "      <td>-0.250918</td>\n",
       "      <td>0.071846</td>\n",
       "      <td>0.215980</td>\n",
       "      <td>0.223329</td>\n",
       "      <td>0.150526</td>\n",
       "      <td>0.229689</td>\n",
       "      <td>0.015840</td>\n",
       "      <td>1.000000</td>\n",
       "    </tr>\n",
       "  </tbody>\n",
       "</table>\n",
       "</div>"
      ],
      "text/plain": [
       "                      Age  workclass    fnlwgt  Education  Education-num  \\\n",
       "Age              1.000000   0.003787 -0.076646  -0.010508       0.036527   \n",
       "workclass        0.003787   1.000000 -0.016656   0.023513       0.052085   \n",
       "fnlwgt          -0.076646  -0.016656  1.000000  -0.028145      -0.043195   \n",
       "Education       -0.010508   0.023513 -0.028145   1.000000       0.359153   \n",
       "Education-num    0.036527   0.052085 -0.043195   0.359153       1.000000   \n",
       "maritial status -0.266288  -0.064731  0.028153  -0.038407      -0.069304   \n",
       "occupation      -0.020947   0.254892  0.001597  -0.021260       0.109697   \n",
       "relationship    -0.263698  -0.090461  0.008931  -0.010876      -0.094153   \n",
       "Race             0.028718   0.049742 -0.021291   0.014131       0.031838   \n",
       "Gender           0.088832   0.095981  0.026858  -0.027356       0.012280   \n",
       "capital gain     0.077674   0.033835  0.000432   0.030046       0.122630   \n",
       "capital loss     0.057775   0.012216 -0.010252   0.016746       0.079923   \n",
       "hours per week   0.068756   0.138962 -0.018768   0.055510       0.148123   \n",
       "native_country  -0.001151  -0.007690 -0.051966   0.064288       0.050840   \n",
       "salary           0.234037   0.051604 -0.009463   0.079317       0.335154   \n",
       "\n",
       "                 maritial status  occupation  relationship      Race  \\\n",
       "Age                    -0.266288   -0.020947     -0.263698  0.028718   \n",
       "workclass              -0.064731    0.254892     -0.090461  0.049742   \n",
       "fnlwgt                  0.028153    0.001597      0.008931 -0.021291   \n",
       "Education              -0.038407   -0.021260     -0.010876  0.014131   \n",
       "Education-num          -0.069304    0.109697     -0.094153  0.031838   \n",
       "maritial status         1.000000   -0.009654      0.185451 -0.068013   \n",
       "occupation             -0.009654    1.000000     -0.075607  0.006763   \n",
       "relationship            0.185451   -0.075607      1.000000 -0.116055   \n",
       "Race                   -0.068013    0.006763     -0.116055  1.000000   \n",
       "Gender                 -0.129314    0.080296     -0.582454  0.087204   \n",
       "capital gain           -0.043393    0.025505     -0.057919  0.011145   \n",
       "capital loss           -0.034187    0.017987     -0.061062  0.018899   \n",
       "hours per week         -0.190519    0.080383     -0.248974  0.041910   \n",
       "native_country         -0.023819   -0.012543     -0.005507  0.137852   \n",
       "salary                 -0.199307    0.075468     -0.250918  0.071846   \n",
       "\n",
       "                   Gender  capital gain  capital loss  hours per week  \\\n",
       "Age              0.088832      0.077674      0.057775        0.068756   \n",
       "workclass        0.095981      0.033835      0.012216        0.138962   \n",
       "fnlwgt           0.026858      0.000432     -0.010252       -0.018768   \n",
       "Education       -0.027356      0.030046      0.016746        0.055510   \n",
       "Education-num    0.012280      0.122630      0.079923        0.148123   \n",
       "maritial status -0.129314     -0.043393     -0.034187       -0.190519   \n",
       "occupation       0.080296      0.025505      0.017987        0.080383   \n",
       "relationship    -0.582454     -0.057919     -0.061062       -0.248974   \n",
       "Race             0.087204      0.011145      0.018899        0.041910   \n",
       "Gender           1.000000      0.048480      0.045567        0.229309   \n",
       "capital gain     0.048480      1.000000     -0.031615        0.078409   \n",
       "capital loss     0.045567     -0.031615      1.000000        0.054256   \n",
       "hours per week   0.229309      0.078409      0.054256        1.000000   \n",
       "native_country  -0.008119     -0.001982      0.000419       -0.002671   \n",
       "salary           0.215980      0.223329      0.150526        0.229689   \n",
       "\n",
       "                 native_country    salary  \n",
       "Age                   -0.001151  0.234037  \n",
       "workclass             -0.007690  0.051604  \n",
       "fnlwgt                -0.051966 -0.009463  \n",
       "Education              0.064288  0.079317  \n",
       "Education-num          0.050840  0.335154  \n",
       "maritial status       -0.023819 -0.199307  \n",
       "occupation            -0.012543  0.075468  \n",
       "relationship          -0.005507 -0.250918  \n",
       "Race                   0.137852  0.071846  \n",
       "Gender                -0.008119  0.215980  \n",
       "capital gain          -0.001982  0.223329  \n",
       "capital loss           0.000419  0.150526  \n",
       "hours per week        -0.002671  0.229689  \n",
       "native_country         1.000000  0.015840  \n",
       "salary                 0.015840  1.000000  "
      ]
     },
     "execution_count": 10,
     "metadata": {},
     "output_type": "execute_result"
    }
   ],
   "source": [
    "cor=df.corr()\n",
    "cor"
   ]
  },
  {
   "cell_type": "code",
   "execution_count": 11,
   "id": "dc29eff6",
   "metadata": {},
   "outputs": [
    {
     "data": {
      "text/plain": [
       "<AxesSubplot:>"
      ]
     },
     "execution_count": 11,
     "metadata": {},
     "output_type": "execute_result"
    },
    {
     "data": {
      "image/png": "[encoded data removed]",
      "text/plain": [
       "<Figure size 432x288 with 2 Axes>"
      ]
     },
     "metadata": {
      "needs_background": "light"
     },
     "output_type": "display_data"
    }
   ],
   "source": [
    "sns.heatmap(cor)"
   ]
  },
  {
   "cell_type": "code",
   "execution_count": 12,
   "id": "f027faf5",
   "metadata": {},
   "outputs": [
    {
     "data": {
      "text/html": [
       "<div>\n",
       "<style scoped>\n",
       "    .dataframe tbody tr th:only-of-type {\n",
       "        vertical-align: middle;\n",
       "    }\n",
       "\n",
       "    .dataframe tbody tr th {\n",
       "        vertical-align: top;\n",
       "    }\n",
       "\n",
       "    .dataframe thead th {\n",
       "        text-align: right;\n",
       "    }\n",
       "</style>\n",
       "<table border=\"1\" class=\"dataframe\">\n",
       "  <thead>\n",
       "    <tr style=\"text-align: right;\">\n",
       "      <th></th>\n",
       "      <th>Education-num</th>\n",
       "      <th>maritial status</th>\n",
       "      <th>Gender</th>\n",
       "      <th>capital gain</th>\n",
       "      <th>capital loss</th>\n",
       "      <th>salary</th>\n",
       "    </tr>\n",
       "  </thead>\n",
       "  <tbody>\n",
       "    <tr>\n",
       "      <th>Education-num</th>\n",
       "      <td>1.000000</td>\n",
       "      <td>-0.069304</td>\n",
       "      <td>0.012280</td>\n",
       "      <td>0.122630</td>\n",
       "      <td>0.079923</td>\n",
       "      <td>0.335154</td>\n",
       "    </tr>\n",
       "    <tr>\n",
       "      <th>maritial status</th>\n",
       "      <td>-0.069304</td>\n",
       "      <td>1.000000</td>\n",
       "      <td>-0.129314</td>\n",
       "      <td>-0.043393</td>\n",
       "      <td>-0.034187</td>\n",
       "      <td>-0.199307</td>\n",
       "    </tr>\n",
       "    <tr>\n",
       "      <th>Gender</th>\n",
       "      <td>0.012280</td>\n",
       "      <td>-0.129314</td>\n",
       "      <td>1.000000</td>\n",
       "      <td>0.048480</td>\n",
       "      <td>0.045567</td>\n",
       "      <td>0.215980</td>\n",
       "    </tr>\n",
       "    <tr>\n",
       "      <th>capital gain</th>\n",
       "      <td>0.122630</td>\n",
       "      <td>-0.043393</td>\n",
       "      <td>0.048480</td>\n",
       "      <td>1.000000</td>\n",
       "      <td>-0.031615</td>\n",
       "      <td>0.223329</td>\n",
       "    </tr>\n",
       "    <tr>\n",
       "      <th>capital loss</th>\n",
       "      <td>0.079923</td>\n",
       "      <td>-0.034187</td>\n",
       "      <td>0.045567</td>\n",
       "      <td>-0.031615</td>\n",
       "      <td>1.000000</td>\n",
       "      <td>0.150526</td>\n",
       "    </tr>\n",
       "    <tr>\n",
       "      <th>salary</th>\n",
       "      <td>0.335154</td>\n",
       "      <td>-0.199307</td>\n",
       "      <td>0.215980</td>\n",
       "      <td>0.223329</td>\n",
       "      <td>0.150526</td>\n",
       "      <td>1.000000</td>\n",
       "    </tr>\n",
       "  </tbody>\n",
       "</table>\n",
       "</div>"
      ],
      "text/plain": [
       "                 Education-num  maritial status    Gender  capital gain  \\\n",
       "Education-num         1.000000        -0.069304  0.012280      0.122630   \n",
       "maritial status      -0.069304         1.000000 -0.129314     -0.043393   \n",
       "Gender                0.012280        -0.129314  1.000000      0.048480   \n",
       "capital gain          0.122630        -0.043393  0.048480      1.000000   \n",
       "capital loss          0.079923        -0.034187  0.045567     -0.031615   \n",
       "salary                0.335154        -0.199307  0.215980      0.223329   \n",
       "\n",
       "                 capital loss    salary  \n",
       "Education-num        0.079923  0.335154  \n",
       "maritial status     -0.034187 -0.199307  \n",
       "Gender               0.045567  0.215980  \n",
       "capital gain        -0.031615  0.223329  \n",
       "capital loss         1.000000  0.150526  \n",
       "salary               0.150526  1.000000  "
      ]
     },
     "execution_count": 12,
     "metadata": {},
     "output_type": "execute_result"
    }
   ],
   "source": [
    "df1=df.copy()\n",
    "df1=df1.drop(['fnlwgt','Education','Age','workclass','native_country','Race','occupation','relationship','hours per week'],axis=1)\n",
    "df1.corr()"
   ]
  },
  {
   "cell_type": "code",
   "execution_count": 13,
   "id": "93f421c5",
   "metadata": {},
   "outputs": [],
   "source": [
    "x=df1.iloc[:,:-1]\n",
    "y=df1.iloc[:,-1]"
   ]
  },
  {
   "cell_type": "code",
   "execution_count": 14,
   "id": "4150113e",
   "metadata": {},
   "outputs": [],
   "source": [
    "x_train, x_test, y_train, y_test = train_test_split(x,y, test_size = 0.30, random_state = 0)"
   ]
  },
  {
   "cell_type": "code",
   "execution_count": 15,
   "id": "00a84b89",
   "metadata": {},
   "outputs": [],
   "source": [
    "model=DecisionTreeClassifier()\n",
    "test=model.fit(x_train,y_train)\n",
    "pred=model.predict(x_test)\n",
    "as0=accuracy_score(y_test, pred)\n",
    "cm=confusion_matrix(y_test,pred)"
   ]
  },
  {
   "cell_type": "code",
   "execution_count": 16,
   "id": "df92b4b2",
   "metadata": {},
   "outputs": [],
   "source": [
    "model1=RandomForestClassifier()\n",
    "test1=model1.fit(x_train,y_train)\n",
    "pred1=model1.predict(x_test)\n",
    "as1=accuracy_score(y_test, pred1)\n",
    "cm1=confusion_matrix(y_test,pred1)"
   ]
  },
  {
   "cell_type": "code",
   "execution_count": 17,
   "id": "40d62199",
   "metadata": {},
   "outputs": [],
   "source": [
    "model2 = GaussianNB()\n",
    "test2 = model2.fit(x_train, y_train)\n",
    "pred2 = model2.predict(x_test)\n",
    "as2=accuracy_score(y_test, pred2)\n",
    "cm2=confusion_matrix(y_test,pred2)"
   ]
  },
  {
   "cell_type": "code",
   "execution_count": 18,
   "id": "c049871b",
   "metadata": {},
   "outputs": [],
   "source": [
    "model3=KNeighborsClassifier(n_neighbors=10)\n",
    "test3 = model3.fit(x_train, y_train)\n",
    "pred3 = model3.predict(x_test)\n",
    "as3=accuracy_score(y_test, pred3)\n",
    "cm3=confusion_matrix(y_test,pred3)"
   ]
  },
  {
   "cell_type": "code",
   "execution_count": 19,
   "id": "f00547fb",
   "metadata": {},
   "outputs": [
    {
     "name": "stderr",
     "output_type": "stream",
     "text": [
      "C:\\Users\\Dell\\anaconda3\\lib\\site-packages\\sklearn\\linear_model\\_logistic.py:763: ConvergenceWarning: lbfgs failed to converge (status=1):\n",
      "STOP: TOTAL NO. of ITERATIONS REACHED LIMIT.\n",
      "\n",
      "Increase the number of iterations (max_iter) or scale the data as shown in:\n",
      "    https://scikit-learn.org/stable/modules/preprocessing.html\n",
      "Please also refer to the documentation for alternative solver options:\n",
      "    https://scikit-learn.org/stable/modules/linear_model.html#logistic-regression\n",
      "  n_iter_i = _check_optimize_result(\n"
     ]
    }
   ],
   "source": [
    "model4= LogisticRegression()\n",
    "test4=model4.fit(x_train, y_train)\n",
    "pred4 = model4.predict(x_test)\n",
    "as4=accuracy_score(y_test, pred4)\n",
    "cm4=confusion_matrix(y_test,pred4)"
   ]
  },
  {
   "cell_type": "code",
   "execution_count": 20,
   "id": "b54bc0f3",
   "metadata": {},
   "outputs": [
    {
     "name": "stdout",
     "output_type": "stream",
     "text": [
      "[[7008  399]\n",
      " [ 980 1382]]\n",
      "[[7001  406]\n",
      " [ 986 1376]]\n",
      "[[7047  360]\n",
      " [1612  750]]\n",
      "[[7001  406]\n",
      " [ 979 1383]]\n",
      "[[7085  322]\n",
      " [1477  885]]\n"
     ]
    }
   ],
   "source": [
    "print(cm)\n",
    "print(cm1)\n",
    "print(cm2)\n",
    "print(cm3)\n",
    "print(cm4)"
   ]
  },
  {
   "cell_type": "code",
   "execution_count": 21,
   "id": "d6fe7a1f",
   "metadata": {},
   "outputs": [],
   "source": [
    "mod=['Decision Tree','Random Forest','Naive Bayes','KN','Logistic Regression']\n",
    "a_s=[as0,as1,as2,as3,as4]"
   ]
  },
  {
   "cell_type": "code",
   "execution_count": 22,
   "id": "a5f5e03a",
   "metadata": {},
   "outputs": [
    {
     "name": "stdout",
     "output_type": "stream",
     "text": [
      "The Decision Tree classifier predicts the model with accuracy score 0.8588391851776026 \n",
      "The Random Forest classifier predicts the model with accuracy score 0.8575084450813799 \n",
      "The Naive Bayes classifier predicts the model with accuracy score 0.7981369638652882 \n",
      "The KN classifier predicts the model with accuracy score 0.8582249974408844 \n",
      "The Logistic Regression classifier predicts the model with accuracy score 0.8158460436073293 \n"
     ]
    }
   ],
   "source": [
    "for i in range (5):\n",
    "   print (\"The {} classifier predicts the model with accuracy score {} \".format(mod[i],a_s[i]))\n"
   ]
  },
  {
   "cell_type": "code",
   "execution_count": 23,
   "id": "bb95f9c0",
   "metadata": {},
   "outputs": [
    {
     "name": "stdout",
     "output_type": "stream",
     "text": [
      "              precision    recall  f1-score   support\n",
      "\n",
      "           0       0.88      0.95      0.91      7407\n",
      "           1       0.78      0.59      0.67      2362\n",
      "\n",
      "    accuracy                           0.86      9769\n",
      "   macro avg       0.83      0.77      0.79      9769\n",
      "weighted avg       0.85      0.86      0.85      9769\n",
      "\n"
     ]
    }
   ],
   "source": [
    "cr=classification_report(y_test,pred)\n",
    "print(cr)"
   ]
  },
  {
   "cell_type": "markdown",
   "id": "eae16130",
   "metadata": {},
   "source": [
    "#unbalanced classes"
   ]
  },
  {
   "cell_type": "code",
   "execution_count": 24,
   "id": "f246d228",
   "metadata": {},
   "outputs": [
    {
     "data": {
      "text/plain": [
       "0    24720\n",
       "1     7841\n",
       "Name: salary, dtype: int64"
      ]
     },
     "execution_count": 24,
     "metadata": {},
     "output_type": "execute_result"
    }
   ],
   "source": [
    "df['salary'].value_counts()"
   ]
  },
  {
   "cell_type": "code",
   "execution_count": 25,
   "id": "265d6db2",
   "metadata": {},
   "outputs": [],
   "source": [
    "sm = SMOTE(random_state=55)\n",
    "X_res, y_res = sm.fit_resample(x_train, y_train)"
   ]
  },
  {
   "cell_type": "code",
   "execution_count": 26,
   "id": "1c614d80",
   "metadata": {},
   "outputs": [],
   "source": [
    "model00=model.fit(X_res,y_res)\n",
    "model01=model1.fit(X_res,y_res)\n",
    "model02=model2.fit(X_res,y_res)\n",
    "model03=model3.fit(X_res,y_res)\n",
    "model04=model4.fit(X_res,y_res)"
   ]
  },
  {
   "cell_type": "code",
   "execution_count": 27,
   "id": "50f2f74e",
   "metadata": {},
   "outputs": [],
   "source": [
    "pred00=model00.predict(x_test)\n",
    "pred01=model01.predict(x_test)\n",
    "pred02=model02.predict(x_test)\n",
    "pred03=model03.predict(x_test)\n",
    "pred04=model04.predict(x_test)"
   ]
  },
  {
   "cell_type": "code",
   "execution_count": 28,
   "id": "7d0017eb",
   "metadata": {},
   "outputs": [],
   "source": [
    "cr0=classification_report(y_test,pred00)\n",
    "cr1=classification_report(y_test,pred01)\n",
    "cr2=classification_report(y_test,pred02)\n",
    "cr3=classification_report(y_test,pred03)\n",
    "cr4=classification_report(y_test,pred04)\n",
    "\n",
    "cr=[cr0,cr1,cr2,cr3,cr4]"
   ]
  },
  {
   "cell_type": "code",
   "execution_count": 29,
   "id": "cabffaca",
   "metadata": {},
   "outputs": [],
   "source": [
    "y_prob00=model00.predict_proba(x_test)\n",
    "y_prob00=y_prob00[:,1]\n",
    "y_prob01=model01.predict_proba(x_test)\n",
    "y_prob01=y_prob01[:,1]\n",
    "y_prob02=model02.predict_proba(x_test)\n",
    "y_prob02=y_prob02[:,1]\n",
    "y_prob03=model03.predict_proba(x_test)\n",
    "y_prob03=y_prob03[:,1]\n",
    "y_prob04=model04.predict_proba(x_test)\n",
    "y_prob04=y_prob04[:,1]\n",
    "AUC0=roc_auc_score(y_test,y_prob00)\n",
    "fpr1,tpr1,threshold1= roc_curve(y_test,y_prob00)\n",
    "AUC1=roc_auc_score(y_test,y_prob01)\n",
    "fpr2,tpr2,threshold2= roc_curve(y_test,y_prob01)\n",
    "AUC2=roc_auc_score(y_test,y_prob02)\n",
    "fpr3,tpr3,threshold3= roc_curve(y_test,y_prob03)\n",
    "AUC3=roc_auc_score(y_test,y_prob03)\n",
    "fpr4,tpr4,threshold4= roc_curve(y_test,y_prob04)\n",
    "AUC4=roc_auc_score(y_test,y_prob04)"
   ]
  },
  {
   "cell_type": "code",
   "execution_count": 30,
   "id": "7cfd3e9f",
   "metadata": {},
   "outputs": [],
   "source": [
    "auc=[AUC0,AUC1,AUC2,AUC3,AUC4]"
   ]
  },
  {
   "cell_type": "code",
   "execution_count": 31,
   "id": "3c1e43c1",
   "metadata": {},
   "outputs": [
    {
     "name": "stdout",
     "output_type": "stream",
     "text": [
      "['Decision Tree', 'Random Forest', 'Naive Bayes', 'KN', 'Logistic Regression']\n",
      "[0.8588391851776026, 0.8575084450813799, 0.7981369638652882, 0.8582249974408844, 0.8158460436073293]\n",
      "[0.9000510936230197, 0.9019453129617302, 0.8585029014021682, 0.8854451992742751, 0.8314019612314917]\n"
     ]
    }
   ],
   "source": [
    "print(mod)\n",
    "print(a_s)\n",
    "print(auc)"
   ]
  },
  {
   "cell_type": "code",
   "execution_count": 32,
   "id": "c780132d",
   "metadata": {},
   "outputs": [
    {
     "data": {
      "text/plain": [
       "(0.8588391851776026, 0.9019453129617302)"
      ]
     },
     "execution_count": 32,
     "metadata": {},
     "output_type": "execute_result"
    }
   ],
   "source": [
    "max(a_s),max(auc)"
   ]
  },
  {
   "cell_type": "code",
   "execution_count": 33,
   "id": "702c1edd",
   "metadata": {},
   "outputs": [],
   "source": [
    "cm00=confusion_matrix(y_test,pred00)\n",
    "cm01=confusion_matrix(y_test,pred01)"
   ]
  },
  {
   "cell_type": "code",
   "execution_count": 34,
   "id": "c8c1f54d",
   "metadata": {},
   "outputs": [
    {
     "name": "stdout",
     "output_type": "stream",
     "text": [
      "[[5418 1989]\n",
      " [ 235 2127]]\n",
      "[[5404 2003]\n",
      " [ 236 2126]]\n"
     ]
    }
   ],
   "source": [
    "print(cm00)\n",
    "print(cm01)"
   ]
  },
  {
   "attachments": {
    "image.png": {
     "image/png": "[encoded data removed]"
    }
   },
   "cell_type": "markdown",
   "id": "00084bab",
   "metadata": {},
   "source": [
    "![image.png](attachment:image.png)"
   ]
  },
  {
   "cell_type": "markdown",
   "id": "61836ff8",
   "metadata": {},
   "source": [
    "salary <=50K  = 0\n",
    "salary >50K   = 1"
   ]
  },
  {
   "cell_type": "markdown",
   "id": "ebac8efa",
   "metadata": {},
   "source": [
    "#1. suppose we wish to predict people with salary less than or equal to 50k."
   ]
  },
  {
   "cell_type": "markdown",
   "id": "bb0ffa53",
   "metadata": {},
   "source": [
    "then we shall choose model00 i.e. deciscion tree in order to get more true negative and less false negative."
   ]
  },
  {
   "cell_type": "markdown",
   "id": "1aa57040",
   "metadata": {},
   "source": [
    "#2. suppose we wish to predict people with salary greater than 50k."
   ]
  },
  {
   "cell_type": "markdown",
   "id": "30aa46a0",
   "metadata": {},
   "source": [
    "then we shall choose model01 i.e. random forest in order to get more true positive and less false positive"
   ]
  },
  {
   "cell_type": "code",
   "execution_count": null,
   "id": "93ea0228",
   "metadata": {},
   "outputs": [],
   "source": []
  }
 ],
 "metadata": {
  "kernelspec": {
   "display_name": "Python 3",
   "language": "python",
   "name": "python3"
  },
  "language_info": {
   "codemirror_mode": {
    "name": "ipython",
    "version": 3
   },
   "file_extension": ".py",
   "mimetype": "text/x-python",
   "name": "python",
   "nbconvert_exporter": "python",
   "pygments_lexer": "ipython3",
   "version": "3.8.8"
  }
 },
 "nbformat": 4,
 "nbformat_minor": 5
}
